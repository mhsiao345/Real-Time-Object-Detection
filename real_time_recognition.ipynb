{
 "cells": [
  {
   "cell_type": "markdown",
   "metadata": {},
   "source": [
    "## Machine Learning with Python on Jupyter Notebook to Construct Dataset of Captured Images of Objects, Use Tensorflow to Train on the Dataset, and Test the Model with Real Time Recognition"
   ]
  },
  {
   "cell_type": "markdown",
   "metadata": {},
   "source": [
    " ### Define Number of Objects to be Trained and Create Respective Train and Test Directories"
   ]
  },
  {
   "cell_type": "code",
   "execution_count": 1,
   "metadata": {},
   "outputs": [
    {
     "name": "stdout",
     "output_type": "stream",
     "text": [
      "Enter number of different objects to have the AI model train on and recognize: 4\n",
      "Enter the label name for object 1: ruler\n",
      "Enter the label name for object 2: scissor\n",
      "Enter the label name for object 3: pen\n",
      "Enter the label name for object 4: stapler\n",
      "Here is the list of objects to be recorded and collected for model training:\n",
      " ['ruler', 'scissor', 'pen', 'stapler']\n"
     ]
    }
   ],
   "source": [
    "import os\n",
    "\n",
    "labels_list = []\n",
    "\n",
    "num_labels = input('Enter number of different objects to have the AI model train on and recognize: ')\n",
    "for num in range(int(num_labels)):\n",
    "    label_name = input(f'Enter the label name for object {num+1}: ')\n",
    "    labels_list.append(label_name)\n",
    "    os.makedirs(f'captures/train/{label_name}')\n",
    "    os.makedirs(f'captures/test/{label_name}')\n",
    "\n",
    "print('Here is the list of objects to be recorded and collected for model training:\\n', labels_list)"
   ]
  },
  {
   "cell_type": "markdown",
   "metadata": {},
   "source": [
    " ### Use OpenCV to Build the Train and Test Datasets"
   ]
  },
  {
   "cell_type": "code",
   "execution_count": 3,
   "metadata": {},
   "outputs": [],
   "source": [
    "import cv2\n",
    "\n",
    "# 1 for 2nd webcam, 0 for default webcam\n",
    "cap = cv2.VideoCapture(1)\n",
    "\n",
    "for label in labels_list:\n",
    "\n",
    "    capture = 'start'\n",
    "    \n",
    "    while True:\n",
    "              \n",
    "        ret, frame = cap.read()\n",
    "        frame = cv2.flip(frame, 1)\n",
    "\n",
    "        # define capture data rectangle\n",
    "        capture_data = frame[100:400, 320:620]\n",
    "        capture_data = cv2.cvtColor(capture_data, cv2.COLOR_BGR2GRAY)\n",
    "        capture_data = cv2.resize(capture_data, (128, 128), interpolation = cv2.INTER_AREA)\n",
    "        copy = frame.copy()\n",
    "        cv2.rectangle(copy, (320, 100), (620, 400), (255,0,0), 5)\n",
    "        \n",
    "        if capture == 'start':\n",
    "            cv2.putText(copy, 'Hit Enter to Start Capturing', (50 , 80), cv2.FONT_HERSHEY_COMPLEX, 1, (0, 255, 0), 1)\n",
    "            cv2.putText(copy, f'Label: \"{label}\"', (50 , 120), cv2.FONT_HERSHEY_COMPLEX, 1, (0, 255, 0), 1)\n",
    "        \n",
    "        if capture == 'train':\n",
    "            image_count += 1\n",
    "            cv2.putText(copy, f'Recording \"{label}\" object', (50 , 80), cv2.FONT_HERSHEY_COMPLEX, 1, (0, 255, 0), 1)\n",
    "            cv2.putText(copy, 'train dataset', (50 , 120), cv2.FONT_HERSHEY_COMPLEX, 1, (0, 255, 0), 1)\n",
    "            cv2.putText(copy, str(image_count), (400 , 400), cv2.FONT_HERSHEY_COMPLEX, 1, (0, 255, 0), 1)\n",
    "            folder = 'captures/' + '/train/' + label + '/'\n",
    "            cv2.imwrite(folder + str(image_count) + \".jpg\", capture_data)\n",
    "\n",
    "        if capture == 'test':\n",
    "            image_count += 1\n",
    "            cv2.putText(copy, f'Recording \"{label}\" object', (50 , 80), cv2.FONT_HERSHEY_COMPLEX, 1, (0, 255, 0), 1)\n",
    "            cv2.putText(copy, 'test dataset', (50 , 120), cv2.FONT_HERSHEY_COMPLEX, 1, (0, 255, 0), 1)\n",
    "            cv2.putText(copy, str(image_count), (400 , 400), cv2.FONT_HERSHEY_COMPLEX, 1, (0, 255, 0), 1)\n",
    "            folder = 'captures/' + '/test/' + label + '/'\n",
    "            cv2.imwrite(folder + str(image_count) + \".jpg\", capture_data)\n",
    "        \n",
    "        cv2.imshow('frame', copy)\n",
    "\n",
    "        if cv2.waitKey(1) == 13: #13 is the Enter Key\n",
    "            if capture == 'start':\n",
    "                capture = 'train'\n",
    "                image_count = 0\n",
    "            elif capture == 'train':\n",
    "                capture = 'test'\n",
    "                image_count = 0\n",
    "            else:\n",
    "                break\n",
    "\n",
    "cap.release()\n",
    "cv2.destroyAllWindows() "
   ]
  },
  {
   "cell_type": "markdown",
   "metadata": {},
   "source": [
    "### Use Data Augmentation to Enhance Dataset"
   ]
  },
  {
   "cell_type": "code",
   "execution_count": 4,
   "metadata": {},
   "outputs": [
    {
     "name": "stdout",
     "output_type": "stream",
     "text": [
      "Found 2374 images belonging to 4 classes.\n",
      "Found 736 images belonging to 4 classes.\n"
     ]
    }
   ],
   "source": [
    "from tensorflow.keras.preprocessing.image import ImageDataGenerator\n",
    "\n",
    "img_rows, img_cols = 128, 128\n",
    "batch_size = 32\n",
    "\n",
    "train_data_dir = 'captures/train'\n",
    "validation_data_dir = 'captures/test'\n",
    "\n",
    "train_datagen = ImageDataGenerator(\n",
    "      rescale=1./255,\n",
    "      rotation_range=30,\n",
    "      width_shift_range=0.3,\n",
    "      height_shift_range=0.3,\n",
    "      horizontal_flip=True,\n",
    "      fill_mode='nearest')\n",
    " \n",
    "validation_datagen = ImageDataGenerator(rescale=1./255)\n",
    " \n",
    "train_generator = train_datagen.flow_from_directory(\n",
    "        train_data_dir,\n",
    "        target_size=(img_rows, img_cols),\n",
    "        batch_size=batch_size,\n",
    "        color_mode = 'grayscale',\n",
    "        class_mode='sparse')\n",
    " \n",
    "validation_generator = validation_datagen.flow_from_directory(\n",
    "        validation_data_dir,\n",
    "        target_size=(img_rows, img_cols),\n",
    "        batch_size=batch_size,\n",
    "        color_mode = 'grayscale',\n",
    "        class_mode='sparse')"
   ]
  },
  {
   "cell_type": "markdown",
   "metadata": {},
   "source": [
    "### Define Tensorflow Training Model"
   ]
  },
  {
   "cell_type": "code",
   "execution_count": 5,
   "metadata": {
    "scrolled": true
   },
   "outputs": [
    {
     "name": "stdout",
     "output_type": "stream",
     "text": [
      "Model: \"sequential\"\n",
      "_________________________________________________________________\n",
      "Layer (type)                 Output Shape              Param #   \n",
      "=================================================================\n",
      "conv2d (Conv2D)              (None, 126, 126, 128)     1280      \n",
      "_________________________________________________________________\n",
      "max_pooling2d (MaxPooling2D) (None, 63, 63, 128)       0         \n",
      "_________________________________________________________________\n",
      "conv2d_1 (Conv2D)            (None, 61, 61, 96)        110688    \n",
      "_________________________________________________________________\n",
      "max_pooling2d_1 (MaxPooling2 (None, 30, 30, 96)        0         \n",
      "_________________________________________________________________\n",
      "conv2d_2 (Conv2D)            (None, 28, 28, 64)        55360     \n",
      "_________________________________________________________________\n",
      "max_pooling2d_2 (MaxPooling2 (None, 14, 14, 64)        0         \n",
      "_________________________________________________________________\n",
      "flatten (Flatten)            (None, 12544)             0         \n",
      "_________________________________________________________________\n",
      "dense (Dense)                (None, 128)               1605760   \n",
      "_________________________________________________________________\n",
      "dropout (Dropout)            (None, 128)               0         \n",
      "_________________________________________________________________\n",
      "dense_1 (Dense)              (None, 4)                 516       \n",
      "=================================================================\n",
      "Total params: 1,773,604\n",
      "Trainable params: 1,773,604\n",
      "Non-trainable params: 0\n",
      "_________________________________________________________________\n",
      "None\n"
     ]
    }
   ],
   "source": [
    "from tensorflow.keras.models import Sequential\n",
    "from tensorflow.keras.layers import Dense, Dropout, Flatten\n",
    "from tensorflow.keras.layers import Conv2D, MaxPooling2D\n",
    "\n",
    "\n",
    "model = Sequential()\n",
    "model.add(Conv2D(128, 3, activation='relu', input_shape=(128, 128, 1) ))\n",
    "model.add(MaxPooling2D())\n",
    "\n",
    "model.add(Conv2D(96, 3, activation='relu'))\n",
    "model.add(MaxPooling2D())\n",
    "\n",
    "model.add(Conv2D(64, 3, activation='relu'))\n",
    "model.add(MaxPooling2D())\n",
    "\n",
    "model.add(Flatten())\n",
    "model.add(Dense(128, activation='relu'))\n",
    "model.add(Dropout(0.20))\n",
    "\n",
    "model.add(Dense(train_generator.num_classes, activation='softmax'))\n",
    "\n",
    "print(model.summary())"
   ]
  },
  {
   "cell_type": "markdown",
   "metadata": {},
   "source": [
    "### Compile and Train the Model"
   ]
  },
  {
   "cell_type": "code",
   "execution_count": 6,
   "metadata": {
    "scrolled": true
   },
   "outputs": [
    {
     "name": "stdout",
     "output_type": "stream",
     "text": [
      "Epoch 1/15\n",
      "75/75 [==============================] - 27s 304ms/step - loss: 1.0522 - accuracy: 0.5244 - val_loss: 0.5300 - val_accuracy: 0.7636\n",
      "Epoch 2/15\n",
      "75/75 [==============================] - 12s 154ms/step - loss: 0.5016 - accuracy: 0.8020 - val_loss: 0.3298 - val_accuracy: 0.8261\n",
      "Epoch 3/15\n",
      "75/75 [==============================] - 12s 161ms/step - loss: 0.3157 - accuracy: 0.8833 - val_loss: 0.5037 - val_accuracy: 0.7636\n",
      "Epoch 4/15\n",
      "75/75 [==============================] - 13s 170ms/step - loss: 0.2385 - accuracy: 0.9099 - val_loss: 0.2937 - val_accuracy: 0.8533\n",
      "Epoch 5/15\n",
      "75/75 [==============================] - 13s 166ms/step - loss: 0.1487 - accuracy: 0.9440 - val_loss: 0.1295 - val_accuracy: 0.9443\n",
      "Epoch 6/15\n",
      "75/75 [==============================] - 12s 163ms/step - loss: 0.0959 - accuracy: 0.9671 - val_loss: 0.0470 - val_accuracy: 0.9878\n",
      "Epoch 7/15\n",
      "75/75 [==============================] - 12s 163ms/step - loss: 0.0785 - accuracy: 0.9777 - val_loss: 0.1545 - val_accuracy: 0.9293\n",
      "Epoch 8/15\n",
      "75/75 [==============================] - 12s 153ms/step - loss: 0.0402 - accuracy: 0.9882 - val_loss: 0.0194 - val_accuracy: 0.9932\n",
      "Epoch 9/15\n",
      "75/75 [==============================] - 11s 149ms/step - loss: 0.0273 - accuracy: 0.9903 - val_loss: 0.0094 - val_accuracy: 1.0000\n",
      "Epoch 10/15\n",
      "75/75 [==============================] - 11s 148ms/step - loss: 0.0248 - accuracy: 0.9937 - val_loss: 0.1027 - val_accuracy: 0.9511\n",
      "Epoch 11/15\n",
      "75/75 [==============================] - 11s 148ms/step - loss: 0.0282 - accuracy: 0.9895 - val_loss: 0.0241 - val_accuracy: 0.9905\n",
      "Epoch 12/15\n",
      "75/75 [==============================] - 11s 148ms/step - loss: 0.0361 - accuracy: 0.9861 - val_loss: 0.1872 - val_accuracy: 0.9293\n",
      "Epoch 13/15\n",
      "75/75 [==============================] - 11s 148ms/step - loss: 0.0653 - accuracy: 0.9794 - val_loss: 0.0148 - val_accuracy: 0.9932\n",
      "Epoch 14/15\n",
      "75/75 [==============================] - 11s 148ms/step - loss: 0.0208 - accuracy: 0.9941 - val_loss: 0.0585 - val_accuracy: 0.9810\n",
      "Epoch 15/15\n",
      "75/75 [==============================] - 11s 149ms/step - loss: 0.0235 - accuracy: 0.9933 - val_loss: 0.0153 - val_accuracy: 0.9918\n"
     ]
    }
   ],
   "source": [
    "from tensorflow.keras.optimizers import Adam\n",
    "\n",
    "# use a reduced learning rate \n",
    "model.compile(loss='sparse_categorical_crossentropy', metrics=['accuracy'],\n",
    "              optimizer=Adam(learning_rate=0.0003))\n",
    "\n",
    "history = model.fit(train_generator, epochs = 15, \n",
    "                    validation_data = validation_generator)"
   ]
  },
  {
   "cell_type": "code",
   "execution_count": 7,
   "metadata": {},
   "outputs": [],
   "source": [
    "# save the model\n",
    "model.save(\"objects_detection_cnn_model.h5\")"
   ]
  },
  {
   "cell_type": "code",
   "execution_count": 1,
   "metadata": {},
   "outputs": [],
   "source": [
    "# load the model\n",
    "from tensorflow.keras.models import load_model\n",
    "\n",
    "model = load_model('objects_detection_cnn_model.h5')"
   ]
  },
  {
   "cell_type": "code",
   "execution_count": 2,
   "metadata": {},
   "outputs": [
    {
     "data": {
      "text/plain": [
       "['pen', 'ruler', 'scissor', 'stapler']"
      ]
     },
     "execution_count": 2,
     "metadata": {},
     "output_type": "execute_result"
    }
   ],
   "source": [
    "import os\n",
    "\n",
    "labels_list = [label for label in sorted(os.listdir('captures/train'))]\n",
    "labels_list"
   ]
  },
  {
   "cell_type": "code",
   "execution_count": 3,
   "metadata": {},
   "outputs": [],
   "source": [
    "import tensorflow as tf\n",
    "import numpy as np\n",
    "import cv2\n",
    "\n",
    "cap = cv2.VideoCapture(1)\n",
    "\n",
    "while True:\n",
    "    \n",
    "    ret, frame = cap.read()\n",
    "    \n",
    "    frame=cv2.flip(frame, 1)\n",
    "\n",
    "    #define region for detection and prediction\n",
    "    detection_box = frame[100:400, 320:620]\n",
    "    detection_box = cv2.cvtColor(detection_box, cv2.COLOR_BGR2GRAY\n",
    "                                )\n",
    "    detection_box = cv2.resize(detection_box, (128, 128), interpolation = cv2.INTER_AREA)\n",
    "    \n",
    "    copy = frame.copy()\n",
    "    cv2.rectangle(copy, (320, 100), (620, 400), (255,0,0), 5)\n",
    "    \n",
    "    detected = detection_box.reshape(1, 128, 128, 1) \n",
    "    detected = detected / 255\n",
    "    prediction = model.predict(detected)\n",
    "    confidence = prediction[0][np.argmax(prediction)]\n",
    "\n",
    "    cv2.putText(copy, labels_list[np.argmax(prediction)], (300 , 80), cv2.FONT_HERSHEY_COMPLEX, 2, (0, 255, 0), 2)\n",
    "    if confidence > 0.5:\n",
    "        cv2.putText(copy, 'prediction confidence: ' + str(confidence), (250 , 30), cv2.FONT_HERSHEY_COMPLEX, 0.5, (0, 255, 0), 2)\n",
    "    else:\n",
    "        cv2.putText(copy, 'prediction confidence: ' + str(confidence), (250 , 30), cv2.FONT_HERSHEY_COMPLEX, 0.5, (0, 0, 255), 2)\n",
    "    cv2.imshow('frame', copy)    \n",
    "    \n",
    "    if cv2.waitKey(1) == 13: #13 is the Enter Key\n",
    "        break\n",
    "        \n",
    "cap.release()\n",
    "cv2.destroyAllWindows()"
   ]
  },
  {
   "cell_type": "code",
   "execution_count": null,
   "metadata": {},
   "outputs": [],
   "source": [
    "cap.release()\n",
    "cv2.destroyAllWindows()"
   ]
  }
 ],
 "metadata": {
  "kernelspec": {
   "display_name": "Python 3",
   "language": "python",
   "name": "python3"
  },
  "language_info": {
   "codemirror_mode": {
    "name": "ipython",
    "version": 3
   },
   "file_extension": ".py",
   "mimetype": "text/x-python",
   "name": "python",
   "nbconvert_exporter": "python",
   "pygments_lexer": "ipython3",
   "version": "3.9.0"
  }
 },
 "nbformat": 4,
 "nbformat_minor": 2
}
